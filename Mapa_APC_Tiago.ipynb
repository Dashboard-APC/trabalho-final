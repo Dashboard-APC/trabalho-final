{
  "nbformat": 4,
  "nbformat_minor": 0,
  "metadata": {
    "colab": {
      "name": "Mapa_APC_Tiago.ipynb",
      "provenance": [],
      "collapsed_sections": []
    },
    "kernelspec": {
      "name": "python3",
      "display_name": "Python 3"
    },
    "language_info": {
      "name": "python"
    }
  },
  "cells": [
    {
      "cell_type": "markdown",
      "source": [
        "Gráfico de barras do número de postos por região/estado por ano em uma grid."
      ],
      "metadata": {
        "id": "wwkBjlF-Auo-"
      }
    },
    {
      "cell_type": "code",
      "execution_count": 1,
      "metadata": {
        "id": "6N5c3cG-ArAV"
      },
      "outputs": [],
      "source": [
        "import pandas as pd\n",
        "import numpy as np\n",
        "import matplotlib.pyplot as plt\n",
        "import seaborn as sns\n",
        "#import matplotlib.ticker as ticker\n",
        "import re"
      ]
    },
    {
      "cell_type": "code",
      "source": [
        "from google.colab import drive\n",
        "\n",
        "drive.mount('/content/gdrive', force_remount=True)\n",
        "\n",
        "dataset_path = '/content/gdrive/MyDrive/gas.csv'"
      ],
      "metadata": {
        "colab": {
          "base_uri": "https://localhost:8080/"
        },
        "id": "UQM_ZAutHwnq",
        "outputId": "16cd4573-fa97-446d-d7df-b8b919f50a71"
      },
      "execution_count": 2,
      "outputs": [
        {
          "output_type": "stream",
          "name": "stdout",
          "text": [
            "Mounted at /content/gdrive\n"
          ]
        }
      ]
    },
    {
      "cell_type": "code",
      "source": [
        "df = pd.read_csv(dataset_path)\n",
        "df.head()"
      ],
      "metadata": {
        "colab": {
          "base_uri": "https://localhost:8080/",
          "height": 408
        },
        "id": "EabQnbgpBXl_",
        "outputId": "f1a4e8be-08d7-48c9-b909-8a625b51efba"
      },
      "execution_count": 3,
      "outputs": [
        {
          "output_type": "execute_result",
          "data": {
            "text/plain": [
              "  DATA INICIAL  DATA FINAL        REGIÃO              ESTADO  \\\n",
              "0   2004-05-09  2004-05-15  CENTRO OESTE    DISTRITO FEDERAL   \n",
              "1   2004-05-09  2004-05-15  CENTRO OESTE               GOIAS   \n",
              "2   2004-05-09  2004-05-15  CENTRO OESTE         MATO GROSSO   \n",
              "3   2004-05-09  2004-05-15  CENTRO OESTE  MATO GROSSO DO SUL   \n",
              "4   2004-05-09  2004-05-15      NORDESTE             ALAGOAS   \n",
              "\n",
              "            PRODUTO  NÚMERO DE POSTOS PESQUISADOS UNIDADE DE MEDIDA  \\\n",
              "0  ETANOL HIDRATADO                           127              R$/l   \n",
              "1  ETANOL HIDRATADO                           387              R$/l   \n",
              "2  ETANOL HIDRATADO                           192              R$/l   \n",
              "3  ETANOL HIDRATADO                           162              R$/l   \n",
              "4  ETANOL HIDRATADO                           103              R$/l   \n",
              "\n",
              "   PREÇO MÉDIO REVENDA  DESVIO PADRÃO REVENDA  PREÇO MÍNIMO REVENDA  \\\n",
              "0                1.288                  0.016                  1.19   \n",
              "1                1.162                  0.114                  0.89   \n",
              "2                1.389                  0.097                  1.18   \n",
              "3                1.262                  0.070                  1.09   \n",
              "4                1.181                  0.078                  1.05   \n",
              "\n",
              "   PREÇO MÁXIMO REVENDA MARGEM MÉDIA REVENDA  COEF DE VARIAÇÃO REVENDA  \\\n",
              "0                 1.350                0.463                     0.012   \n",
              "1                 1.449                0.399                     0.098   \n",
              "2                 1.760                0.419                     0.070   \n",
              "3                 1.509                0.432                     0.055   \n",
              "4                 1.400                 0.24                     0.066   \n",
              "\n",
              "  PREÇO MÉDIO DISTRIBUIÇÃO DESVIO PADRÃO DISTRIBUIÇÃO  \\\n",
              "0                    0.825                       0.11   \n",
              "1                    0.763                      0.088   \n",
              "2                     0.97                      0.095   \n",
              "3                     0.83                      0.119   \n",
              "4                    0.941                      0.077   \n",
              "\n",
              "  PREÇO MÍNIMO DISTRIBUIÇÃO PREÇO MÁXIMO DISTRIBUIÇÃO  \\\n",
              "0                    0.4201                    0.9666   \n",
              "1                    0.5013                      1.05   \n",
              "2                    0.5614                     1.161   \n",
              "3                    0.5991                   1.22242   \n",
              "4                    0.7441                    1.0317   \n",
              "\n",
              "  COEF DE VARIAÇÃO DISTRIBUIÇÃO  \n",
              "0                         0.133  \n",
              "1                         0.115  \n",
              "2                         0.098  \n",
              "3                         0.143  \n",
              "4                         0.082  "
            ],
            "text/html": [
              "\n",
              "  <div id=\"df-2de6d136-53b7-4937-bccd-64b9839bf0c1\">\n",
              "    <div class=\"colab-df-container\">\n",
              "      <div>\n",
              "<style scoped>\n",
              "    .dataframe tbody tr th:only-of-type {\n",
              "        vertical-align: middle;\n",
              "    }\n",
              "\n",
              "    .dataframe tbody tr th {\n",
              "        vertical-align: top;\n",
              "    }\n",
              "\n",
              "    .dataframe thead th {\n",
              "        text-align: right;\n",
              "    }\n",
              "</style>\n",
              "<table border=\"1\" class=\"dataframe\">\n",
              "  <thead>\n",
              "    <tr style=\"text-align: right;\">\n",
              "      <th></th>\n",
              "      <th>DATA INICIAL</th>\n",
              "      <th>DATA FINAL</th>\n",
              "      <th>REGIÃO</th>\n",
              "      <th>ESTADO</th>\n",
              "      <th>PRODUTO</th>\n",
              "      <th>NÚMERO DE POSTOS PESQUISADOS</th>\n",
              "      <th>UNIDADE DE MEDIDA</th>\n",
              "      <th>PREÇO MÉDIO REVENDA</th>\n",
              "      <th>DESVIO PADRÃO REVENDA</th>\n",
              "      <th>PREÇO MÍNIMO REVENDA</th>\n",
              "      <th>PREÇO MÁXIMO REVENDA</th>\n",
              "      <th>MARGEM MÉDIA REVENDA</th>\n",
              "      <th>COEF DE VARIAÇÃO REVENDA</th>\n",
              "      <th>PREÇO MÉDIO DISTRIBUIÇÃO</th>\n",
              "      <th>DESVIO PADRÃO DISTRIBUIÇÃO</th>\n",
              "      <th>PREÇO MÍNIMO DISTRIBUIÇÃO</th>\n",
              "      <th>PREÇO MÁXIMO DISTRIBUIÇÃO</th>\n",
              "      <th>COEF DE VARIAÇÃO DISTRIBUIÇÃO</th>\n",
              "    </tr>\n",
              "  </thead>\n",
              "  <tbody>\n",
              "    <tr>\n",
              "      <th>0</th>\n",
              "      <td>2004-05-09</td>\n",
              "      <td>2004-05-15</td>\n",
              "      <td>CENTRO OESTE</td>\n",
              "      <td>DISTRITO FEDERAL</td>\n",
              "      <td>ETANOL HIDRATADO</td>\n",
              "      <td>127</td>\n",
              "      <td>R$/l</td>\n",
              "      <td>1.288</td>\n",
              "      <td>0.016</td>\n",
              "      <td>1.19</td>\n",
              "      <td>1.350</td>\n",
              "      <td>0.463</td>\n",
              "      <td>0.012</td>\n",
              "      <td>0.825</td>\n",
              "      <td>0.11</td>\n",
              "      <td>0.4201</td>\n",
              "      <td>0.9666</td>\n",
              "      <td>0.133</td>\n",
              "    </tr>\n",
              "    <tr>\n",
              "      <th>1</th>\n",
              "      <td>2004-05-09</td>\n",
              "      <td>2004-05-15</td>\n",
              "      <td>CENTRO OESTE</td>\n",
              "      <td>GOIAS</td>\n",
              "      <td>ETANOL HIDRATADO</td>\n",
              "      <td>387</td>\n",
              "      <td>R$/l</td>\n",
              "      <td>1.162</td>\n",
              "      <td>0.114</td>\n",
              "      <td>0.89</td>\n",
              "      <td>1.449</td>\n",
              "      <td>0.399</td>\n",
              "      <td>0.098</td>\n",
              "      <td>0.763</td>\n",
              "      <td>0.088</td>\n",
              "      <td>0.5013</td>\n",
              "      <td>1.05</td>\n",
              "      <td>0.115</td>\n",
              "    </tr>\n",
              "    <tr>\n",
              "      <th>2</th>\n",
              "      <td>2004-05-09</td>\n",
              "      <td>2004-05-15</td>\n",
              "      <td>CENTRO OESTE</td>\n",
              "      <td>MATO GROSSO</td>\n",
              "      <td>ETANOL HIDRATADO</td>\n",
              "      <td>192</td>\n",
              "      <td>R$/l</td>\n",
              "      <td>1.389</td>\n",
              "      <td>0.097</td>\n",
              "      <td>1.18</td>\n",
              "      <td>1.760</td>\n",
              "      <td>0.419</td>\n",
              "      <td>0.070</td>\n",
              "      <td>0.97</td>\n",
              "      <td>0.095</td>\n",
              "      <td>0.5614</td>\n",
              "      <td>1.161</td>\n",
              "      <td>0.098</td>\n",
              "    </tr>\n",
              "    <tr>\n",
              "      <th>3</th>\n",
              "      <td>2004-05-09</td>\n",
              "      <td>2004-05-15</td>\n",
              "      <td>CENTRO OESTE</td>\n",
              "      <td>MATO GROSSO DO SUL</td>\n",
              "      <td>ETANOL HIDRATADO</td>\n",
              "      <td>162</td>\n",
              "      <td>R$/l</td>\n",
              "      <td>1.262</td>\n",
              "      <td>0.070</td>\n",
              "      <td>1.09</td>\n",
              "      <td>1.509</td>\n",
              "      <td>0.432</td>\n",
              "      <td>0.055</td>\n",
              "      <td>0.83</td>\n",
              "      <td>0.119</td>\n",
              "      <td>0.5991</td>\n",
              "      <td>1.22242</td>\n",
              "      <td>0.143</td>\n",
              "    </tr>\n",
              "    <tr>\n",
              "      <th>4</th>\n",
              "      <td>2004-05-09</td>\n",
              "      <td>2004-05-15</td>\n",
              "      <td>NORDESTE</td>\n",
              "      <td>ALAGOAS</td>\n",
              "      <td>ETANOL HIDRATADO</td>\n",
              "      <td>103</td>\n",
              "      <td>R$/l</td>\n",
              "      <td>1.181</td>\n",
              "      <td>0.078</td>\n",
              "      <td>1.05</td>\n",
              "      <td>1.400</td>\n",
              "      <td>0.24</td>\n",
              "      <td>0.066</td>\n",
              "      <td>0.941</td>\n",
              "      <td>0.077</td>\n",
              "      <td>0.7441</td>\n",
              "      <td>1.0317</td>\n",
              "      <td>0.082</td>\n",
              "    </tr>\n",
              "  </tbody>\n",
              "</table>\n",
              "</div>\n",
              "      <button class=\"colab-df-convert\" onclick=\"convertToInteractive('df-2de6d136-53b7-4937-bccd-64b9839bf0c1')\"\n",
              "              title=\"Convert this dataframe to an interactive table.\"\n",
              "              style=\"display:none;\">\n",
              "        \n",
              "  <svg xmlns=\"http://www.w3.org/2000/svg\" height=\"24px\"viewBox=\"0 0 24 24\"\n",
              "       width=\"24px\">\n",
              "    <path d=\"M0 0h24v24H0V0z\" fill=\"none\"/>\n",
              "    <path d=\"M18.56 5.44l.94 2.06.94-2.06 2.06-.94-2.06-.94-.94-2.06-.94 2.06-2.06.94zm-11 1L8.5 8.5l.94-2.06 2.06-.94-2.06-.94L8.5 2.5l-.94 2.06-2.06.94zm10 10l.94 2.06.94-2.06 2.06-.94-2.06-.94-.94-2.06-.94 2.06-2.06.94z\"/><path d=\"M17.41 7.96l-1.37-1.37c-.4-.4-.92-.59-1.43-.59-.52 0-1.04.2-1.43.59L10.3 9.45l-7.72 7.72c-.78.78-.78 2.05 0 2.83L4 21.41c.39.39.9.59 1.41.59.51 0 1.02-.2 1.41-.59l7.78-7.78 2.81-2.81c.8-.78.8-2.07 0-2.86zM5.41 20L4 18.59l7.72-7.72 1.47 1.35L5.41 20z\"/>\n",
              "  </svg>\n",
              "      </button>\n",
              "      \n",
              "  <style>\n",
              "    .colab-df-container {\n",
              "      display:flex;\n",
              "      flex-wrap:wrap;\n",
              "      gap: 12px;\n",
              "    }\n",
              "\n",
              "    .colab-df-convert {\n",
              "      background-color: #E8F0FE;\n",
              "      border: none;\n",
              "      border-radius: 50%;\n",
              "      cursor: pointer;\n",
              "      display: none;\n",
              "      fill: #1967D2;\n",
              "      height: 32px;\n",
              "      padding: 0 0 0 0;\n",
              "      width: 32px;\n",
              "    }\n",
              "\n",
              "    .colab-df-convert:hover {\n",
              "      background-color: #E2EBFA;\n",
              "      box-shadow: 0px 1px 2px rgba(60, 64, 67, 0.3), 0px 1px 3px 1px rgba(60, 64, 67, 0.15);\n",
              "      fill: #174EA6;\n",
              "    }\n",
              "\n",
              "    [theme=dark] .colab-df-convert {\n",
              "      background-color: #3B4455;\n",
              "      fill: #D2E3FC;\n",
              "    }\n",
              "\n",
              "    [theme=dark] .colab-df-convert:hover {\n",
              "      background-color: #434B5C;\n",
              "      box-shadow: 0px 1px 3px 1px rgba(0, 0, 0, 0.15);\n",
              "      filter: drop-shadow(0px 1px 2px rgba(0, 0, 0, 0.3));\n",
              "      fill: #FFFFFF;\n",
              "    }\n",
              "  </style>\n",
              "\n",
              "      <script>\n",
              "        const buttonEl =\n",
              "          document.querySelector('#df-2de6d136-53b7-4937-bccd-64b9839bf0c1 button.colab-df-convert');\n",
              "        buttonEl.style.display =\n",
              "          google.colab.kernel.accessAllowed ? 'block' : 'none';\n",
              "\n",
              "        async function convertToInteractive(key) {\n",
              "          const element = document.querySelector('#df-2de6d136-53b7-4937-bccd-64b9839bf0c1');\n",
              "          const dataTable =\n",
              "            await google.colab.kernel.invokeFunction('convertToInteractive',\n",
              "                                                     [key], {});\n",
              "          if (!dataTable) return;\n",
              "\n",
              "          const docLinkHtml = 'Like what you see? Visit the ' +\n",
              "            '<a target=\"_blank\" href=https://colab.research.google.com/notebooks/data_table.ipynb>data table notebook</a>'\n",
              "            + ' to learn more about interactive tables.';\n",
              "          element.innerHTML = '';\n",
              "          dataTable['output_type'] = 'display_data';\n",
              "          await google.colab.output.renderOutput(dataTable, element);\n",
              "          const docLink = document.createElement('div');\n",
              "          docLink.innerHTML = docLinkHtml;\n",
              "          element.appendChild(docLink);\n",
              "        }\n",
              "      </script>\n",
              "    </div>\n",
              "  </div>\n",
              "  "
            ]
          },
          "metadata": {},
          "execution_count": 3
        }
      ]
    },
    {
      "cell_type": "code",
      "source": [
        "df.columns"
      ],
      "metadata": {
        "colab": {
          "base_uri": "https://localhost:8080/"
        },
        "id": "KR4g_KyEEGP0",
        "outputId": "869e9176-c901-428e-e399-7b804c455fcd"
      },
      "execution_count": 4,
      "outputs": [
        {
          "output_type": "execute_result",
          "data": {
            "text/plain": [
              "Index(['DATA INICIAL', 'DATA FINAL', 'REGIÃO', 'ESTADO', 'PRODUTO',\n",
              "       'NÚMERO DE POSTOS PESQUISADOS', 'UNIDADE DE MEDIDA',\n",
              "       'PREÇO MÉDIO REVENDA', 'DESVIO PADRÃO REVENDA', 'PREÇO MÍNIMO REVENDA',\n",
              "       'PREÇO MÁXIMO REVENDA', 'MARGEM MÉDIA REVENDA',\n",
              "       'COEF DE VARIAÇÃO REVENDA', 'PREÇO MÉDIO DISTRIBUIÇÃO',\n",
              "       'DESVIO PADRÃO DISTRIBUIÇÃO', 'PREÇO MÍNIMO DISTRIBUIÇÃO',\n",
              "       'PREÇO MÁXIMO DISTRIBUIÇÃO', 'COEF DE VARIAÇÃO DISTRIBUIÇÃO'],\n",
              "      dtype='object')"
            ]
          },
          "metadata": {},
          "execution_count": 4
        }
      ]
    },
    {
      "cell_type": "code",
      "source": [
        "df['REGIÃO'].value_counts()"
      ],
      "metadata": {
        "colab": {
          "base_uri": "https://localhost:8080/"
        },
        "id": "zmP1eztlEhOX",
        "outputId": "ed03b7ac-79e0-4c11-9f6d-3d2050df649b"
      },
      "execution_count": 5,
      "outputs": [
        {
          "output_type": "execute_result",
          "data": {
            "text/plain": [
              "NORDESTE        41671\n",
              "NORTE           27989\n",
              "SUDESTE         19270\n",
              "CENTRO OESTE    17449\n",
              "SUL             14444\n",
              "Name: REGIÃO, dtype: int64"
            ]
          },
          "metadata": {},
          "execution_count": 5
        }
      ]
    },
    {
      "cell_type": "code",
      "source": [
        "df['ESTADO'].value_counts()"
      ],
      "metadata": {
        "colab": {
          "base_uri": "https://localhost:8080/"
        },
        "id": "SXXj_UJyFNcE",
        "outputId": "f3af9246-427b-4fc2-edab-5668225b6953"
      },
      "execution_count": 6,
      "outputs": [
        {
          "output_type": "execute_result",
          "data": {
            "text/plain": [
              "PARAIBA                4819\n",
              "RIO DE JANEIRO         4819\n",
              "SAO PAULO              4819\n",
              "RIO GRANDE DO SUL      4819\n",
              "BAHIA                  4819\n",
              "SANTA CATARINA         4818\n",
              "RIO GRANDE DO NORTE    4818\n",
              "MINAS GERAIS           4817\n",
              "ESPIRITO SANTO         4815\n",
              "PERNAMBUCO             4813\n",
              "CEARA                  4813\n",
              "PARANA                 4807\n",
              "ALAGOAS                4806\n",
              "SERGIPE                4795\n",
              "MATO GROSSO DO SUL     4793\n",
              "MATO GROSSO            4566\n",
              "AMAZONAS               4414\n",
              "GOIAS                  4134\n",
              "PIAUI                  4017\n",
              "MARANHAO               3971\n",
              "DISTRITO FEDERAL       3956\n",
              "PARA                   3955\n",
              "TOCANTINS              3953\n",
              "RONDONIA               3950\n",
              "ACRE                   3948\n",
              "RORAIMA                3938\n",
              "AMAPA                  3831\n",
              "Name: ESTADO, dtype: int64"
            ]
          },
          "metadata": {},
          "execution_count": 6
        }
      ]
    },
    {
      "cell_type": "code",
      "source": [
        "df['DATA FINAL'].value_counts()"
      ],
      "metadata": {
        "colab": {
          "base_uri": "https://localhost:8080/"
        },
        "id": "b-ulCiDxFB4Y",
        "outputId": "75e03472-88aa-4c6f-f38c-bd2c3a3f0766"
      },
      "execution_count": 7,
      "outputs": [
        {
          "output_type": "execute_result",
          "data": {
            "text/plain": [
              "2021-03-13    180\n",
              "2021-03-06    180\n",
              "2021-04-17    179\n",
              "2021-04-10    179\n",
              "2021-03-20    179\n",
              "             ... \n",
              "2008-08-30    122\n",
              "2005-09-10    122\n",
              "2005-09-03    122\n",
              "2009-09-05    121\n",
              "2005-10-08    119\n",
              "Name: DATA FINAL, Length: 873, dtype: int64"
            ]
          },
          "metadata": {},
          "execution_count": 7
        }
      ]
    },
    {
      "cell_type": "code",
      "source": [
        "df.shape"
      ],
      "metadata": {
        "colab": {
          "base_uri": "https://localhost:8080/"
        },
        "id": "xG8XNZGxCSC0",
        "outputId": "0fb2afdd-3446-4664-abd6-0f36138a5e02"
      },
      "execution_count": 8,
      "outputs": [
        {
          "output_type": "execute_result",
          "data": {
            "text/plain": [
              "(120823, 18)"
            ]
          },
          "metadata": {},
          "execution_count": 8
        }
      ]
    },
    {
      "cell_type": "code",
      "source": [
        "df.isna().sum()"
      ],
      "metadata": {
        "colab": {
          "base_uri": "https://localhost:8080/"
        },
        "id": "YnrdF5x7CSFC",
        "outputId": "09ebd1ff-91e3-48df-bf5a-963cdacc413d"
      },
      "execution_count": 9,
      "outputs": [
        {
          "output_type": "execute_result",
          "data": {
            "text/plain": [
              "DATA INICIAL                     0\n",
              "DATA FINAL                       0\n",
              "REGIÃO                           0\n",
              "ESTADO                           0\n",
              "PRODUTO                          0\n",
              "NÚMERO DE POSTOS PESQUISADOS     0\n",
              "UNIDADE DE MEDIDA                0\n",
              "PREÇO MÉDIO REVENDA              0\n",
              "DESVIO PADRÃO REVENDA            0\n",
              "PREÇO MÍNIMO REVENDA             0\n",
              "PREÇO MÁXIMO REVENDA             0\n",
              "MARGEM MÉDIA REVENDA             0\n",
              "COEF DE VARIAÇÃO REVENDA         0\n",
              "PREÇO MÉDIO DISTRIBUIÇÃO         0\n",
              "DESVIO PADRÃO DISTRIBUIÇÃO       0\n",
              "PREÇO MÍNIMO DISTRIBUIÇÃO        0\n",
              "PREÇO MÁXIMO DISTRIBUIÇÃO        0\n",
              "COEF DE VARIAÇÃO DISTRIBUIÇÃO    0\n",
              "dtype: int64"
            ]
          },
          "metadata": {},
          "execution_count": 9
        }
      ]
    },
    {
      "cell_type": "code",
      "source": [
        "#df['DATA FINAL'] = pd. to_datetime(df['DATA FINAL'],format='%Y-%m-%d')\n",
        "#df['ANO'] = pd. DatetimeIndex(df['DATA FINAL']).year\n",
        "#df['ANO'].value_counts()\n",
        "\n",
        "df['ANO'] = list(map(lambda x: x[0:4], df['DATA FINAL']))\n",
        "df['ANO'].value_counts()"
      ],
      "metadata": {
        "colab": {
          "base_uri": "https://localhost:8080/"
        },
        "id": "J_GnLdGwJ9Yd",
        "outputId": "d1e84776-4464-44bf-f6d2-d80486caeb38"
      },
      "execution_count": 20,
      "outputs": [
        {
          "output_type": "execute_result",
          "data": {
            "text/plain": [
              "2016    8026\n",
              "2014    7932\n",
              "2013    7912\n",
              "2017    7839\n",
              "2018    7826\n",
              "2019    7810\n",
              "2015    7771\n",
              "2020    6898\n",
              "2011    6611\n",
              "2012    6490\n",
              "2010    6489\n",
              "2006    6474\n",
              "2007    6474\n",
              "2008    6454\n",
              "2005    6310\n",
              "2009    6232\n",
              "2004    4081\n",
              "2021    3194\n",
              "Name: ANO, dtype: int64"
            ]
          },
          "metadata": {},
          "execution_count": 20
        }
      ]
    },
    {
      "cell_type": "code",
      "source": [
        "sns.set()\n",
        "fig, ax = plt.subplots(9, 2,figsize=(20,40))\n",
        "\n",
        "sns.barplot(x=\"REGIÃO\",y=\"NÚMERO DE POSTOS PESQUISADOS\",data=df[df['ANO']=='2004'],ax=ax[0,0],ci=None).set(xlabel=None,ylabel=None,title='2004',ylim=(0, 1200))\n",
        "\n",
        "sns.barplot(x=\"REGIÃO\",y=\"NÚMERO DE POSTOS PESQUISADOS\",data=df[df['ANO']=='2005'],ax=ax[0,1],ci=None).set(xlabel=None,ylabel=None,title='2005',ylim=(0, 1200))\n",
        "\n",
        "sns.barplot(x=\"REGIÃO\",y=\"NÚMERO DE POSTOS PESQUISADOS\",data=df[df['ANO']=='2006'],ax=ax[1,0],ci=None).set(xlabel=None,ylabel=None,title='2006',ylim=(0, 1200))\n",
        "\n",
        "sns.barplot(x=\"REGIÃO\",y=\"NÚMERO DE POSTOS PESQUISADOS\",data=df[df['ANO']=='2007'],ax=ax[1,1],ci=None).set(xlabel=None,ylabel=None,title='2007',ylim=(0, 1200))\n",
        "\n",
        "sns.barplot(x=\"REGIÃO\",y=\"NÚMERO DE POSTOS PESQUISADOS\",data=df[df['ANO']=='2008'],ax=ax[2,0],ci=None).set(xlabel=None,ylabel=None,title='2008',ylim=(0, 1200))\n",
        "\n",
        "sns.barplot(x=\"REGIÃO\",y=\"NÚMERO DE POSTOS PESQUISADOS\",data=df[df['ANO']=='2009'],ax=ax[2,1],ci=None).set(xlabel=None,ylabel=None,title='2009',ylim=(0, 1200))\n",
        "\n",
        "sns.barplot(x=\"REGIÃO\",y=\"NÚMERO DE POSTOS PESQUISADOS\",data=df[df['ANO']=='2010'],ax=ax[3,0],ci=None).set(xlabel=None,ylabel=None,title='2010',ylim=(0, 1200))\n",
        "\n",
        "sns.barplot(x=\"REGIÃO\",y=\"NÚMERO DE POSTOS PESQUISADOS\",data=df[df['ANO']=='2011'],ax=ax[3,1],ci=None).set(xlabel=None,ylabel=None,title='2011',ylim=(0, 1200))\n",
        "\n",
        "sns.barplot(x=\"REGIÃO\",y=\"NÚMERO DE POSTOS PESQUISADOS\",data=df[df['ANO']=='2012'],ax=ax[4,0],ci=None).set(xlabel=None,ylabel=None,title='2012',ylim=(0, 1200))\n",
        "\n",
        "sns.barplot(x=\"REGIÃO\",y=\"NÚMERO DE POSTOS PESQUISADOS\",data=df[df['ANO']=='2013'],ax=ax[4,1],ci=None).set(xlabel=None,ylabel=None,title='2013',ylim=(0, 1200))\n",
        "\n",
        "sns.barplot(x=\"REGIÃO\",y=\"NÚMERO DE POSTOS PESQUISADOS\",data=df[df['ANO']=='2014'],ax=ax[5,0],ci=None).set(xlabel=None,ylabel=None,title='2014',ylim=(0, 1200))\n",
        "\n",
        "sns.barplot(x=\"REGIÃO\",y=\"NÚMERO DE POSTOS PESQUISADOS\",data=df[df['ANO']=='2015'],ax=ax[5,1],ci=None).set(xlabel=None,ylabel=None,title='2015',ylim=(0, 1200))\n",
        "\n",
        "sns.barplot(x=\"REGIÃO\",y=\"NÚMERO DE POSTOS PESQUISADOS\",data=df[df['ANO']=='2016'],ax=ax[6,0],ci=None).set(xlabel=None,ylabel=None,title='2016',ylim=(0, 1200))\n",
        "\n",
        "sns.barplot(x=\"REGIÃO\",y=\"NÚMERO DE POSTOS PESQUISADOS\",data=df[df['ANO']=='2017'],ax=ax[6,1],ci=None).set(xlabel=None,ylabel=None,title='2017',ylim=(0, 1200))\n",
        "\n",
        "sns.barplot(x=\"REGIÃO\",y=\"NÚMERO DE POSTOS PESQUISADOS\",data=df[df['ANO']=='2018'],ax=ax[7,0],ci=None).set(xlabel=None,ylabel=None,title='2018',ylim=(0, 1200))\n",
        "\n",
        "sns.barplot(x=\"REGIÃO\",y=\"NÚMERO DE POSTOS PESQUISADOS\",data=df[df['ANO']=='2019'],ax=ax[7,1],ci=None).set(xlabel=None,ylabel=None,title='2019',ylim=(0, 1200))\n",
        "\n",
        "sns.barplot(x=\"REGIÃO\",y=\"NÚMERO DE POSTOS PESQUISADOS\",data=df[df['ANO']=='2020'],ax=ax[8,0],ci=None).set(xlabel=None,ylabel=None,title='2020',ylim=(0, 1200))\n",
        "\n",
        "sns.barplot(x=\"REGIÃO\",y=\"NÚMERO DE POSTOS PESQUISADOS\",data=df[df['ANO']=='2021'],ax=ax[8,1],ci=None).set(xlabel=None,ylabel=None,title='2021',ylim=(0, 1200))"
      ],
      "metadata": {
        "colab": {
          "base_uri": "https://localhost:8080/",
          "height": 1000
        },
        "id": "fig0OqF8CSHE",
        "outputId": "764a7b5b-a230-4fbe-c0c9-12eb1ff676ee"
      },
      "execution_count": 19,
      "outputs": [
        {
          "output_type": "execute_result",
          "data": {
            "text/plain": [
              "[(0.0, 1200.0), Text(0, 0.5, ''), Text(0.5, 0, ''), Text(0.5, 1.0, '2021')]"
            ]
          },
          "metadata": {},
          "execution_count": 19
        },
        {
          "output_type": "display_data",
          "data": {
            "text/plain": [
              "<Figure size 1440x2880 with 18 Axes>"
            ],
            "image/png": "[encoded data removed]"
          },
          "metadata": {}
        }
      ]
    }
  ]
}